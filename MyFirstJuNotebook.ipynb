{
 "cells": [
  {
   "cell_type": "markdown",
   "metadata": {},
   "source": [
    "# My first Jupyter Notebook\n",
    "## Jake Graham\n",
    "This is my very first Jupyter Notebook. I am a Python newbie. Here are some things I would like to do with Python3.\n",
    "1. Read in hydrologic data\n",
    "2. Do some data analysis\n",
    "3. Create some plots\n",
    "4. Output some data\n"
   ]
  },
  {
   "cell_type": "code",
   "execution_count": 1,
   "metadata": {
    "collapsed": true
   },
   "outputs": [],
   "source": [
    "import numpy as np"
   ]
  },
  {
   "cell_type": "code",
   "execution_count": 14,
   "metadata": {
    "scrolled": true
   },
   "outputs": [
    {
     "data": {
      "text/plain": [
       "(array([ 97,  93, 103, 121,  85,  98,  96, 109,  91, 107]),\n",
       " array([  9.04686731e-04,   1.00810458e-01,   2.00716229e-01,\n",
       "          3.00622000e-01,   4.00527771e-01,   5.00433542e-01,\n",
       "          6.00339313e-01,   7.00245085e-01,   8.00150856e-01,\n",
       "          9.00056627e-01,   9.99962398e-01]))"
      ]
     },
     "execution_count": 14,
     "metadata": {},
     "output_type": "execute_result"
    }
   ],
   "source": [
    "# Creates a 2D array of random numbers that is 1000x1\n",
    "x = np.random.random ((1000, 1))\n",
    "np.histogram(x)"
   ]
  },
  {
   "cell_type": "code",
   "execution_count": null,
   "metadata": {
    "collapsed": true
   },
   "outputs": [],
   "source": []
  }
 ],
 "metadata": {
  "kernelspec": {
   "display_name": "Python 3",
   "language": "python",
   "name": "python3"
  },
  "language_info": {
   "codemirror_mode": {
    "name": "ipython",
    "version": 3
   },
   "file_extension": ".py",
   "mimetype": "text/x-python",
   "name": "python",
   "nbconvert_exporter": "python",
   "pygments_lexer": "ipython3",
   "version": "3.6.1"
  }
 },
 "nbformat": 4,
 "nbformat_minor": 2
}
